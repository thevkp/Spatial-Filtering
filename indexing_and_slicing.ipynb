{
 "cells": [
  {
   "cell_type": "code",
   "execution_count": null,
   "id": "3d0e65df",
   "metadata": {},
   "outputs": [],
   "source": [
    "import numpy as np\n",
    "\n",
    "\n",
    "a1 = np.arange(11)\n",
    "print(a1)\n",
    "\n",
    "#indexing\n",
    "\n",
    "print(a1[-1])\n",
    "\n",
    "\n",
    "a2 = np.arange(12).reshape(3, 4)\n",
    "print(a2)\n",
    "\n",
    "\n",
    "print(a2[1,2])\n",
    "\n",
    "print(a2[2, 3])\n",
    "print(a2[1,0])\n",
    "\n",
    "a3 = np.arange(8).reshape(2,2,2)\n",
    "print(a3)\n",
    "\n",
    "print(a3[1, 0, 1])\n",
    "print(a3[1][0][1])\n",
    "print(a3[0, 0, 0])\n",
    "print(a3[1, 1, 0])\n",
    "\n",
    "\n",
    "#Slicing: fetch multiple items\n",
    "\n",
    "# 1-D numpy ndarray\n",
    "a1_slice = a1[2 : 5]\n",
    "print(a1_slice)\n",
    "a1_slice = a1[2 : 5 : 2]\n",
    "print(a1_slice)\n",
    "\n",
    "a2_slice = a2[0, :] #0-> first row, : -> all columns\n",
    "print(a2_slice)"
   ]
  }
 ],
 "metadata": {
  "language_info": {
   "name": "python"
  }
 },
 "nbformat": 4,
 "nbformat_minor": 5
}
