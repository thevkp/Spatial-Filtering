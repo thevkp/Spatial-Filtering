{
 "cells": [
  {
   "cell_type": "code",
   "execution_count": 107,
   "id": "ab128cd6",
   "metadata": {},
   "outputs": [],
   "source": [
    "import numpy as np\n",
    "import matplotlib.pyplot as plt\n"
   ]
  },
  {
   "cell_type": "code",
   "execution_count": 108,
   "id": "1dbf6a18",
   "metadata": {},
   "outputs": [
    {
     "name": "stdout",
     "output_type": "stream",
     "text": [
      "[[ 0  1  2  3]\n",
      " [ 4  5  6  7]\n",
      " [ 8  9 10 11]]\n"
     ]
    }
   ],
   "source": [
    "arr = np.arange(12).reshape(3, 4)\n",
    "print(arr)"
   ]
  },
  {
   "cell_type": "code",
   "execution_count": 109,
   "id": "4f6fd50f",
   "metadata": {},
   "outputs": [
    {
     "name": "stdout",
     "output_type": "stream",
     "text": [
      "[[ 0  0  1  2  3  3]\n",
      " [ 0  0  1  2  3  3]\n",
      " [ 4  4  5  6  7  7]\n",
      " [ 8  8  9 10 11 11]\n",
      " [ 8  8  9 10 11 11]]\n"
     ]
    }
   ],
   "source": [
    "padded_arr = np.pad(arr, ((1, 1), (1, 1)), mode='edge')\n",
    "print(padded_arr)"
   ]
  },
  {
   "cell_type": "code",
   "execution_count": null,
   "id": "8a3c1421",
   "metadata": {},
   "outputs": [
    {
     "name": "stdout",
     "output_type": "stream",
     "text": [
      "Original\n",
      "[[ 0  1  2  3]\n",
      " [ 4  5  6  7]\n",
      " [ 8  9 10 11]\n",
      " [12 13 14 15]\n",
      " [16 17 18 19]\n",
      " [20 21 22 23]]\n",
      "\n",
      "Copy to store averages\n",
      "[[ 0.  1.  2.  3.]\n",
      " [ 4.  5.  6.  7.]\n",
      " [ 8.  9. 10. 11.]\n",
      " [12. 13. 14. 15.]\n",
      " [16. 17. 18. 19.]\n",
      " [20. 21. 22. 23.]]\n",
      "\n",
      "Padded Array\n",
      "[[ 0  0  1  2  3  3]\n",
      " [ 0  0  1  2  3  3]\n",
      " [ 4  4  5  6  7  7]\n",
      " [ 8  8  9 10 11 11]\n",
      " [12 12 13 14 15 15]\n",
      " [16 16 17 18 19 19]\n",
      " [20 20 21 22 23 23]\n",
      " [20 20 21 22 23 23]]\n",
      "\n",
      "Smoothed Array\n",
      "[[ 2.33333333  1.          2.          3.        ]\n",
      " [ 4.          5.          6.          7.        ]\n",
      " [ 8.          9.          9.         11.        ]\n",
      " [12.         13.         14.         13.        ]\n",
      " [16.         17.         18.         19.        ]\n",
      " [20.         21.         22.         23.        ]]\n"
     ]
    }
   ],
   "source": [
    "def averaging(arr, kernel):\n",
    "  kH, kW = kernel.shape\n",
    "  \n",
    "  averaged = arr.copy().astype(float)\n",
    "  print(f\"Copy to store averages\\n{averaged}\\n\")\n",
    "  \n",
    "  padded_arr = np.pad(arr, ((kH // 2, kH // 2), (kW // 2, kW // 2)), mode='edge')\n",
    "  print(f\"Padded Array\\n{padded_arr}\\n\")\n",
    "  \n",
    "  windows = []\n",
    "  for i in range(arr.shape[0] - kH + 1):\n",
    "    for j in range(arr.shape[1] - kW + 1):\n",
    "      window = np.array(padded_arr[i:i+kH, j:j+kW])\n",
    "      windows.append(window)\n",
    "      avg = np.mean(window)\n",
    "      # center_i = i + kH // 2\n",
    "      # center_j = j + kW // 2\n",
    "      # averaged[center_i, center_j] = avg  \n",
    "      averaged[i, j] = avg    \n",
    "    \n",
    "  return averaged, windows\n",
    "\n",
    "\n",
    "\n",
    "arr = np.arange(24).reshape(6, 4)\n",
    "print(f\"Original\\n{arr}\\n\")\n",
    "\n",
    "kernel = np.ones((3, 3))\n",
    "\n",
    "smoothed, windows = averaging(arr, kernel)\n",
    "print(f\"Smoothed Array\\n{smoothed}\")"
   ]
  },
  {
   "cell_type": "code",
   "execution_count": 111,
   "id": "6a374149",
   "metadata": {},
   "outputs": [
    {
     "name": "stdout",
     "output_type": "stream",
     "text": [
      "[[0 0 1]\n",
      " [0 0 1]\n",
      " [4 4 5]], 1.6666666666666667)\n",
      "[[0 1 2]\n",
      " [0 1 2]\n",
      " [4 5 6]], 2.3333333333333335)\n",
      "[[0 0 1]\n",
      " [4 4 5]\n",
      " [8 8 9]], 4.333333333333333)\n",
      "[[ 0  1  2]\n",
      " [ 4  5  6]\n",
      " [ 8  9 10]], 5.0)\n",
      "[[ 4  4  5]\n",
      " [ 8  8  9]\n",
      " [12 12 13]], 8.333333333333334)\n",
      "[[ 4  5  6]\n",
      " [ 8  9 10]\n",
      " [12 13 14]], 9.0)\n",
      "[[ 8  8  9]\n",
      " [12 12 13]\n",
      " [16 16 17]], 12.333333333333334)\n",
      "[[ 8  9 10]\n",
      " [12 13 14]\n",
      " [16 17 18]], 13.0)\n"
     ]
    }
   ],
   "source": [
    "for window in windows:\n",
    "  print(f\"{window}, {np.mean(window)})\")"
   ]
  },
  {
   "cell_type": "code",
   "execution_count": null,
   "id": "9fac2ce3",
   "metadata": {},
   "outputs": [],
   "source": []
  }
 ],
 "metadata": {
  "kernelspec": {
   "display_name": "Python 3",
   "language": "python",
   "name": "python3"
  },
  "language_info": {
   "codemirror_mode": {
    "name": "ipython",
    "version": 3
   },
   "file_extension": ".py",
   "mimetype": "text/x-python",
   "name": "python",
   "nbconvert_exporter": "python",
   "pygments_lexer": "ipython3",
   "version": "3.12.6"
  }
 },
 "nbformat": 4,
 "nbformat_minor": 5
}
